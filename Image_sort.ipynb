{
 "cells": [
  {
   "cell_type": "code",
   "execution_count": 3,
   "id": "202212e8-2685-4d19-b0de-2ae29f073c07",
   "metadata": {},
   "outputs": [],
   "source": [
    "import os\n",
    "import cv2\n",
    "import face_recognition\n",
    "import shutil`"
   ]
  },
  {
   "cell_type": "code",
   "execution_count": 5,
   "id": "1844615c-29c2-4c4e-bb08-2a13ad4a94d4",
   "metadata": {},
   "outputs": [],
   "source": [
    "model_save_path = 'face_recognition_model.keras' \n",
    "model = load_model(model_save_path)\n",
    "embedding_layer_name = model.layers[-2].name \n",
    "embedding_model = Model(inputs=model.input, outputs=model.get_layer(embedding_layer_name).output)"
   ]
  },
  {
   "cell_type": "code",
   "execution_count": 9,
   "id": "41f065d0-0d50-4b8f-a37e-f55538f1c894",
   "metadata": {},
   "outputs": [],
   "source": [
    "def create_directory(path):\n",
    "    if not os.path.exists(path):\n",
    "        os.makedirs(path)"
   ]
  },
  {
   "cell_type": "code",
   "execution_count": 11,
   "id": "2638cc25-54fb-4134-b151-90d7286cb9c1",
   "metadata": {},
   "outputs": [],
   "source": [
    "def display_image(image):\n",
    "    cv2.imshow(\"Image\", image)\n",
    "    cv2.waitKey(0)\n",
    "    cv2.destroyAllWindows()"
   ]
  },
  {
   "cell_type": "code",
   "execution_count": 13,
   "id": "92bd1675-3378-4e59-ad56-80d5084b8864",
   "metadata": {},
   "outputs": [],
   "source": [
    "def classify_and_organize_images(input_dir):\n",
    "    output_dir = os.path.join(input_dir, \"classified\")\n",
    "    skipped_dir = os.path.join(input_dir, \"skipped\")\n",
    "    \n",
    "    create_directory(output_dir)\n",
    "    create_directory(skipped_dir)\n",
    "\n",
    "    images = [f for f in os.listdir(input_dir) if f.endswith(('.png', '.jpg', '.jpeg'))]\n",
    "    \n",
    "    known_face_encodings = []\n",
    "    known_face_names = []\n",
    "\n",
    "    for image_name in images:\n",
    "        image_path = os.path.join(input_dir, image_name)\n",
    "        \n",
    "        try:\n",
    "            image = face_recognition.load_image_file(image_path)\n",
    "\n",
    "            print(f\"Processing {image_name}...\") \n",
    "            face_locations = face_recognition.face_locations(image)\n",
    "            face_encodings = face_recognition.face_encodings(image)\n",
    "\n",
    "            if face_encodings:\n",
    "                person_names = [] \n",
    "\n",
    "                for i, encoding in enumerate(face_encodings):\n",
    "                    matches = face_recognition.compare_faces(known_face_encodings, encoding)\n",
    "                    name = None\n",
    "\n",
    "                    if True in matches:\n",
    "                        first_match_index = matches.index(True)\n",
    "                        name = known_face_names[first_match_index]\n",
    "                    else:\n",
    "                        top, right, bottom, left = face_locations[i]\n",
    "                        detected_face_image = image[top:bottom, left:right]\n",
    "                        display_image(detected_face_image) \n",
    "                        name = input(f\"Enter name(detected in {image_name}): \")\n",
    "                        known_face_encodings.append(encoding)\n",
    "                        known_face_names.append(name)\n",
    "\n",
    "                    person_names.append(name)\n",
    "\n",
    "                for name in person_names:\n",
    "                    person_dir = os.path.join(output_dir, name)\n",
    "                    create_directory(person_dir)\n",
    "\n",
    "                    output_path = os.path.join(person_dir, image_name)\n",
    "\n",
    "                    if os.path.exists(image_path):\n",
    "                        print(f\"Copying {image_path} to {output_path}\")\n",
    "                        shutil.copyfile(image_path, output_path) \n",
    "                print(f\"Removing {image_path} from input directory.\")\n",
    "                os.remove(image_path)\n",
    "\n",
    "            else:\n",
    "                print(f\"No faces found in {image_name}. Moving to skipped folder.\")\n",
    "                if os.path.exists(image_path):\n",
    "                    print(f\"Moving {image_path} to skipped folder.\")\n",
    "                    os.rename(image_path, os.path.join(skipped_dir, image_name))\n",
    "\n",
    "        except Exception as e:\n",
    "            print(f\"Error processing {image_name}: {e}. Moving to skipped folder.\")\n",
    "            if os.path.exists(image_path):\n",
    "                print(f\"Moving {image_path} to skipped folder.\")\n",
    "                os.rename(image_path, os.path.join(skipped_dir, image_name))\n",
    "    print(\"Classification completed!\")\n",
    "    print(\"Classes created:\")\n",
    "    for person_name in known_face_names:\n",
    "        print(f\"- {person_name}\")"
   ]
  },
  {
   "cell_type": "code",
   "execution_count": 17,
   "id": "962287fb-f652-4f54-86e5-524265ad6a4f",
   "metadata": {},
   "outputs": [
    {
     "name": "stdout",
     "output_type": "stream",
     "text": [
      "Processing download.jpg...\n"
     ]
    },
    {
     "name": "stdin",
     "output_type": "stream",
     "text": [
      "Enter name for this person (detected in download.jpg):  A\n",
      "Enter name for this person (detected in download.jpg):  S\n"
     ]
    },
    {
     "name": "stdout",
     "output_type": "stream",
     "text": [
      "Copying C:\\Users\\91950\\Desktop\\FPdata\\INPUT\\download.jpg to C:\\Users\\91950\\Desktop\\FPdata\\INPUT\\classified\\A\\download.jpg\n",
      "Copying C:\\Users\\91950\\Desktop\\FPdata\\INPUT\\download.jpg to C:\\Users\\91950\\Desktop\\FPdata\\INPUT\\classified\\S\\download.jpg\n",
      "Removing C:\\Users\\91950\\Desktop\\FPdata\\INPUT\\download.jpg from input directory.\n",
      "Processing gigi-hadid-and-zayn-malik-attend-the-manus-x-machina-news-photo-1689168223.jpg...\n"
     ]
    },
    {
     "name": "stdin",
     "output_type": "stream",
     "text": [
      "Enter name for this person (detected in gigi-hadid-and-zayn-malik-attend-the-manus-x-machina-news-photo-1689168223.jpg):  D\n",
      "Enter name for this person (detected in gigi-hadid-and-zayn-malik-attend-the-manus-x-machina-news-photo-1689168223.jpg):  F\n"
     ]
    },
    {
     "name": "stdout",
     "output_type": "stream",
     "text": [
      "Copying C:\\Users\\91950\\Desktop\\FPdata\\INPUT\\gigi-hadid-and-zayn-malik-attend-the-manus-x-machina-news-photo-1689168223.jpg to C:\\Users\\91950\\Desktop\\FPdata\\INPUT\\classified\\D\\gigi-hadid-and-zayn-malik-attend-the-manus-x-machina-news-photo-1689168223.jpg\n",
      "Copying C:\\Users\\91950\\Desktop\\FPdata\\INPUT\\gigi-hadid-and-zayn-malik-attend-the-manus-x-machina-news-photo-1689168223.jpg to C:\\Users\\91950\\Desktop\\FPdata\\INPUT\\classified\\F\\gigi-hadid-and-zayn-malik-attend-the-manus-x-machina-news-photo-1689168223.jpg\n",
      "Removing C:\\Users\\91950\\Desktop\\FPdata\\INPUT\\gigi-hadid-and-zayn-malik-attend-the-manus-x-machina-news-photo-1689168223.jpg from input directory.\n",
      "Processing images (1).jpg...\n"
     ]
    },
    {
     "name": "stdin",
     "output_type": "stream",
     "text": [
      "Enter name for this person (detected in images (1).jpg):  G\n"
     ]
    },
    {
     "name": "stdout",
     "output_type": "stream",
     "text": [
      "Copying C:\\Users\\91950\\Desktop\\FPdata\\INPUT\\images (1).jpg to C:\\Users\\91950\\Desktop\\FPdata\\INPUT\\classified\\S\\images (1).jpg\n",
      "Copying C:\\Users\\91950\\Desktop\\FPdata\\INPUT\\images (1).jpg to C:\\Users\\91950\\Desktop\\FPdata\\INPUT\\classified\\G\\images (1).jpg\n",
      "Removing C:\\Users\\91950\\Desktop\\FPdata\\INPUT\\images (1).jpg from input directory.\n",
      "Processing images (2).jpg...\n",
      "Copying C:\\Users\\91950\\Desktop\\FPdata\\INPUT\\images (2).jpg to C:\\Users\\91950\\Desktop\\FPdata\\INPUT\\classified\\S\\images (2).jpg\n",
      "Removing C:\\Users\\91950\\Desktop\\FPdata\\INPUT\\images (2).jpg from input directory.\n",
      "Processing images (3).jpg...\n",
      "Copying C:\\Users\\91950\\Desktop\\FPdata\\INPUT\\images (3).jpg to C:\\Users\\91950\\Desktop\\FPdata\\INPUT\\classified\\F\\images (3).jpg\n",
      "Removing C:\\Users\\91950\\Desktop\\FPdata\\INPUT\\images (3).jpg from input directory.\n",
      "Processing images.jpg...\n"
     ]
    },
    {
     "name": "stdin",
     "output_type": "stream",
     "text": [
      "Enter name for this person (detected in images.jpg):  H\n"
     ]
    },
    {
     "name": "stdout",
     "output_type": "stream",
     "text": [
      "Copying C:\\Users\\91950\\Desktop\\FPdata\\INPUT\\images.jpg to C:\\Users\\91950\\Desktop\\FPdata\\INPUT\\classified\\H\\images.jpg\n",
      "Copying C:\\Users\\91950\\Desktop\\FPdata\\INPUT\\images.jpg to C:\\Users\\91950\\Desktop\\FPdata\\INPUT\\classified\\G\\images.jpg\n",
      "Copying C:\\Users\\91950\\Desktop\\FPdata\\INPUT\\images.jpg to C:\\Users\\91950\\Desktop\\FPdata\\INPUT\\classified\\A\\images.jpg\n",
      "Copying C:\\Users\\91950\\Desktop\\FPdata\\INPUT\\images.jpg to C:\\Users\\91950\\Desktop\\FPdata\\INPUT\\classified\\S\\images.jpg\n",
      "Removing C:\\Users\\91950\\Desktop\\FPdata\\INPUT\\images.jpg from input directory.\n",
      "Processing Niall-Horan-Songs.jpg...\n",
      "Copying C:\\Users\\91950\\Desktop\\FPdata\\INPUT\\Niall-Horan-Songs.jpg to C:\\Users\\91950\\Desktop\\FPdata\\INPUT\\classified\\A\\Niall-Horan-Songs.jpg\n",
      "Removing C:\\Users\\91950\\Desktop\\FPdata\\INPUT\\Niall-Horan-Songs.jpg from input directory.\n",
      "Processing rump-21.jpg...\n",
      "Copying C:\\Users\\91950\\Desktop\\FPdata\\INPUT\\rump-21.jpg to C:\\Users\\91950\\Desktop\\FPdata\\INPUT\\classified\\A\\rump-21.jpg\n",
      "Copying C:\\Users\\91950\\Desktop\\FPdata\\INPUT\\rump-21.jpg to C:\\Users\\91950\\Desktop\\FPdata\\INPUT\\classified\\S\\rump-21.jpg\n",
      "Removing C:\\Users\\91950\\Desktop\\FPdata\\INPUT\\rump-21.jpg from input directory.\n",
      "Processing sub-buzz-2191-1595515238-6.jpg...\n",
      "Copying C:\\Users\\91950\\Desktop\\FPdata\\INPUT\\sub-buzz-2191-1595515238-6.jpg to C:\\Users\\91950\\Desktop\\FPdata\\INPUT\\classified\\G\\sub-buzz-2191-1595515238-6.jpg\n",
      "Removing C:\\Users\\91950\\Desktop\\FPdata\\INPUT\\sub-buzz-2191-1595515238-6.jpg from input directory.\n",
      "Classification completed!\n",
      "Classes created:\n",
      "- A\n",
      "- S\n",
      "- D\n",
      "- F\n",
      "- G\n",
      "- H\n"
     ]
    }
   ],
   "source": [
    "if __name__ == \"__main__\":\n",
    "    input_directory = \"C:\\\\Users\\\\91950\\\\Desktop\\\\FPdata\\\\INPUT\"  # Change this to your input directory path\n",
    "    classify_and_organize_images(input_directory)"
   ]
  },
  {
   "cell_type": "code",
   "execution_count": null,
   "id": "93c1cbf0-f897-428f-b8f0-14acc3c39369",
   "metadata": {},
   "outputs": [],
   "source": []
  }
 ],
 "metadata": {
  "kernelspec": {
   "display_name": "Python 3 (ipykernel)",
   "language": "python",
   "name": "python3"
  },
  "language_info": {
   "codemirror_mode": {
    "name": "ipython",
    "version": 3
   },
   "file_extension": ".py",
   "mimetype": "text/x-python",
   "name": "python",
   "nbconvert_exporter": "python",
   "pygments_lexer": "ipython3",
   "version": "3.12.7"
  }
 },
 "nbformat": 4,
 "nbformat_minor": 5
}
